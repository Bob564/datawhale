{
 "cells": [
  {
   "cell_type": "markdown",
   "id": "8db374ac-48ae-43a9-944c-695fbb6b116d",
   "metadata": {},
   "source": [
    "评价指标改为macro-F1"
   ]
  },
  {
   "cell_type": "code",
   "execution_count": null,
   "id": "9ed0dad0-a891-437a-a13e-807e804d9e9a",
   "metadata": {},
   "outputs": [],
   "source": []
  }
 ],
 "metadata": {
  "kernelspec": {
   "display_name": "Python 3 (ipykernel)",
   "language": "python",
   "name": "python3"
  },
  "language_info": {
   "codemirror_mode": {
    "name": "ipython",
    "version": 3
   },
   "file_extension": ".py",
   "mimetype": "text/x-python",
   "name": "python",
   "nbconvert_exporter": "python",
   "pygments_lexer": "ipython3",
   "version": "3.9.17"
  }
 },
 "nbformat": 4,
 "nbformat_minor": 5
}
